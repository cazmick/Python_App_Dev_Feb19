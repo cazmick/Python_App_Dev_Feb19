{
 "cells": [
  {
   "cell_type": "code",
   "execution_count": 1,
   "metadata": {},
   "outputs": [],
   "source": [
    "import requests\n",
    "from bs4 import BeautifulSoup"
   ]
  },
  {
   "cell_type": "code",
   "execution_count": 2,
   "metadata": {},
   "outputs": [],
   "source": [
    "url = \"https://www.snapdeal.com/search\"\n",
    "params = {\n",
    "    \"keyword\": \"motorola\"\n",
    "}"
   ]
  },
  {
   "cell_type": "code",
   "execution_count": 3,
   "metadata": {},
   "outputs": [],
   "source": [
    "r = requests.get(url, params=params)"
   ]
  },
  {
   "cell_type": "code",
   "execution_count": 4,
   "metadata": {},
   "outputs": [
    {
     "data": {
      "text/plain": [
       "'https://www.snapdeal.com/search?keyword=motorola'"
      ]
     },
     "execution_count": 4,
     "metadata": {},
     "output_type": "execute_result"
    }
   ],
   "source": [
    "r.url"
   ]
  },
  {
   "cell_type": "code",
   "execution_count": 5,
   "metadata": {},
   "outputs": [],
   "source": [
    "soup = BeautifulSoup(r.content)"
   ]
  },
  {
   "cell_type": "code",
   "execution_count": 6,
   "metadata": {},
   "outputs": [],
   "source": [
    "products = soup.findAll(\n",
    "    'div', \n",
    "    attrs={\"class\": \"product-tuple-listing\"}\n",
    ")"
   ]
  },
  {
   "cell_type": "code",
   "execution_count": 12,
   "metadata": {},
   "outputs": [
    {
     "name": "stdout",
     "output_type": "stream",
     "text": [
      "https://n2.sdlcdn.com/imgs/h/h/i/230X258_sharpened/Motorola-Black-Moto-G6-64GB-SDL367541114-1-1c8ad.jpeg\n",
      "Rs.  11,399\n",
      "Moto G6 (64GB, 4GB RAM) - with 18:9 HD Display\n",
      "\n",
      "https://n4.sdlcdn.com/imgs/h/h/i/230X258_sharpened/Motorola-Black-Moto-G6-3GB-SDL789892030-1-e4f16.jpeg\n",
      "Rs.  10,399\n",
      "Moto G6 (32GB, 3GB RAM) - with 18:9 HD Display\n",
      "\n",
      "https://n3.sdlcdn.com/imgs/h/t/d/230X258_sharpened/Motorola-Gold-Moto-E5-Plus-SDL155166778-1-4ac86.jpeg\n",
      "Rs.  9,290\n",
      "Motorola Gold Moto E5 Plus 32GB\n",
      "\n",
      "https://n3.sdlcdn.com/imgs/f/8/r/230X258_sharpened/Motorola-Moto-E4-16GB-SDL978740182-1-bcc08.jpeg\n",
      "Rs.  6,998\n",
      "Moto E4 (16GB, 2GB RAM)\n",
      "\n",
      "https://n3.sdlcdn.com/imgs/g/a/8/230X258_sharpened/Motorola-Moto-G5S-4GB-Lunar-SDL842156720-1-8df6d.jpg\n",
      "Rs.  10,412\n",
      "Moto G5s (32GB, 4GB RAM)\n",
      "\n",
      "https://n2.sdlcdn.com/imgs/h/u/l/230X258_sharpened/Motorola-Black-Moto-E5-Plus-SDL939397800-1-2a12e.jpeg\n",
      "Rs.  10,299\n",
      "Motorola Black Moto E5 Plus 32GB\n",
      "\n",
      "https://n3.sdlcdn.com/imgs/h/f/u/230X258_sharpened/Motorola-Black-Moto-X4-64GB-SDL483375679-1-6a237.jpeg\n",
      "Rs.  13,900\n",
      "Motorola Black Moto X4 64GB\n",
      "\n",
      "https://n2.sdlcdn.com/imgs/h/o/x/230X258_sharpened/Motorola-Gray-moto-g5s-32GB-SDL543979747-1-b465d.jpeg\n",
      "Rs.  9,999\n",
      "Motorola Gray moto g5s 32GB\n",
      "\n",
      "https://n3.sdlcdn.com/imgs/h/z/r/230X258_sharpened/Motorola-Black-Motorola-G6-Play-SDL869263237-1-eb4f0.jpg\n",
      "Rs.  11,599\n",
      "Motorola Black Motorola G6 Play (3/32) 32GB\n",
      "\n",
      "https://n4.sdlcdn.com/imgs/d/0/4/230X258_sharpened/Motorola-Moto-G-4th-Gen-SDL841018149-1-573a3.jpg\n",
      "Rs.  7,349\n",
      "Motorola Moto G, 4th Gen 16GB White\n",
      "\n",
      "https://n3.sdlcdn.com/imgs/h/j/g/230X258_sharpened/Motorola-Carbon-Blue-Moto-X4-SDL956487839-1-84689.jpeg\n",
      "Rs.  15,999\n",
      "Motorola Carbon Blue Moto X4 64GB\n",
      "\n",
      "https://n1.sdlcdn.com/imgs/h/o/t/230X258_sharpened/Motorola-Gold-moto-e5-16GB-SDL774192906-1-4aa04.jpeg\n",
      "Rs.  8,999\n",
      "Motorola Gold moto e5 16GB\n",
      "\n",
      "https://n3.sdlcdn.com/imgs/h/s/x/230X258_sharpened/Motorola-Grey-moto-e5-16gb-SDL782994699-1-4411e.jpeg\n",
      "Rs.  8,499\n",
      "Motorola Grey moto e5 16gb 16GB\n",
      "\n",
      "https://n3.sdlcdn.com/imgs/h/a/c/230X258_sharpened/Motorola-3A-TurboPower-Wall-Charger-SDL116750338-1-f986e.jpeg\n",
      "Rs.  580\n",
      "Motorola 3A TurboPower Wall Charger For all smartphones with Micro USB Cable - SC-25 for moto e4 plus, moto g4 plus, moto g5s plus, e3, moto g5 plus, moto g4 plus, moto e4, moto x play, Xiaomi, mi, samsung, lenovo, vivo, oppo\n",
      "\n",
      "https://n2.sdlcdn.com/imgs/h/o/y/230X258_sharpened/Motorola-Grey-E5-16GB-SDL376011707-1-b0431.jpeg\n",
      "Rs.  8,499\n",
      "Motorola Grey Moto E5 16GB\n",
      "\n",
      "https://n3.sdlcdn.com/imgs/h/i/8/230X258_sharpened/Motorola-Grey-MOTO-G5s-32GB-SDL872027608-1-c4c4a.jpeg\n",
      "Rs.  10,999\n",
      "Motorola Grey MOTO G5s 32GB\n",
      "\n",
      "https://n1.sdlcdn.com/imgs/g/2/h/230X258_sharpened/Motorola-Gold-MOTO-G5s-32GB-SDL858889217-1-f9bc8.jpeg\n",
      "Rs.  9,999\n",
      "Motorola Gold MOTO G5s 32GB\n",
      "\n",
      "https://n3.sdlcdn.com/imgs/g/r/z/230X258_sharpened/Motorola-Ebony-Gray-Moto-E4-SDL500840505-1-054a1.jpeg\n",
      "Rs.  7,999\n",
      "Moto E4 (16GB, 2GB RAM)\n",
      "\n",
      "https://n3.sdlcdn.com/imgs/f/9/q/230X258_sharpened/Motorola-Moto-E4-16GB-SDL457773355-1-d1c5e.jpeg\n",
      "Rs.  6,998\n",
      "Moto E4 (16GB, 2GB RAM)\n",
      "\n",
      "https://n1.sdlcdn.com/imgs/h/s/n/230X258_sharpened/Gold-86cff.jpeg\n",
      "Rs.  11,999\n",
      "MOTO G5s Plus (64GB, 4GB RAM) - Dual Rear Camera\n",
      "\n"
     ]
    }
   ],
   "source": [
    "for product in products:\n",
    "    img = product.find('img')\n",
    "    if \"src\" in img.attrs:\n",
    "        img_src = img.attrs['src']\n",
    "    elif \"data-src\" in img.attrs:\n",
    "        img_src = img.attrs['data-src']\n",
    "    else:\n",
    "        img_src = None\n",
    "    price = product.find(\n",
    "        'span', \n",
    "        attrs={\"class\": \"product-price\"}).text\n",
    "    name = product.find(\n",
    "        'p', \n",
    "        attrs={\"class\": \"product-title\"}).text\n",
    "    print(img_src)\n",
    "    print(price)\n",
    "    print(name)\n",
    "    print()"
   ]
  },
  {
   "cell_type": "code",
   "execution_count": null,
   "metadata": {},
   "outputs": [],
   "source": []
  },
  {
   "cell_type": "code",
   "execution_count": null,
   "metadata": {},
   "outputs": [],
   "source": []
  }
 ],
 "metadata": {
  "kernelspec": {
   "display_name": "Python 3",
   "language": "python",
   "name": "python3"
  },
  "language_info": {
   "codemirror_mode": {
    "name": "ipython",
    "version": 3
   },
   "file_extension": ".py",
   "mimetype": "text/x-python",
   "name": "python",
   "nbconvert_exporter": "python",
   "pygments_lexer": "ipython3",
   "version": "3.7.0"
  }
 },
 "nbformat": 4,
 "nbformat_minor": 2
}
